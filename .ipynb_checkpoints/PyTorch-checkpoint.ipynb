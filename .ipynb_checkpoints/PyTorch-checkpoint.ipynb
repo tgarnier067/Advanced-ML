{
 "cells": [
  {
   "cell_type": "markdown",
   "id": "a93e1122-2077-402f-af03-58ae2d23109b",
   "metadata": {},
   "source": [
    "# Coding Session 4 - Basics of PyTorch.\n",
    "\n",
    "\n",
    "In this coding session, we will get some basic practice with PyTorch. PyTorch a very popular library for implementing deep learning models. A critical aspect of PyTorch's functionality is the fact that it supports efficient execution on GPUs, but we will not be using GPUs in this coding session. The code we'll use is heavily borrowed from the [Machine Learning with PyTorch and Scikit-learn book's Github repo](https://github.com/rasbt/machine-learning-book/tree/main)."
   ]
  },
  {
   "cell_type": "markdown",
   "id": "002a3e9c-e73a-4010-9530-8b9276ac5968",
   "metadata": {},
   "source": [
    "First, we need to install PyTorch. Run the following code from command line:\n",
    "\n",
    "`pip3 install torch torch-vision`\n",
    "\n",
    "Once this has run, the following code should execute on your computer."
   ]
  },
  {
   "cell_type": "code",
   "execution_count": 3,
   "id": "569fbc25-5e10-4fdf-b80b-4406b295b80f",
   "metadata": {},
   "outputs": [
    {
     "name": "stdout",
     "output_type": "stream",
     "text": [
      "Collecting torch\n",
      "  Downloading torch-2.5.1-cp312-cp312-manylinux1_x86_64.whl.metadata (28 kB)\n",
      "Collecting torch-vision\n",
      "  Downloading torch_vision-0.1.6.dev0-py2.py3-none-any.whl.metadata (9.8 kB)\n",
      "Collecting filelock (from torch)\n",
      "  Downloading filelock-3.16.1-py3-none-any.whl.metadata (2.9 kB)\n",
      "Requirement already satisfied: typing-extensions>=4.8.0 in /opt/conda/lib/python3.12/site-packages (from torch) (4.12.2)\n",
      "Requirement already satisfied: networkx in /opt/conda/lib/python3.12/site-packages (from torch) (3.4.2)\n",
      "Requirement already satisfied: jinja2 in /opt/conda/lib/python3.12/site-packages (from torch) (3.1.4)\n",
      "Requirement already satisfied: fsspec in /opt/conda/lib/python3.12/site-packages (from torch) (2024.10.0)\n",
      "Collecting nvidia-cuda-nvrtc-cu12==12.4.127 (from torch)\n",
      "  Downloading nvidia_cuda_nvrtc_cu12-12.4.127-py3-none-manylinux2014_x86_64.whl.metadata (1.5 kB)\n",
      "Collecting nvidia-cuda-runtime-cu12==12.4.127 (from torch)\n",
      "  Downloading nvidia_cuda_runtime_cu12-12.4.127-py3-none-manylinux2014_x86_64.whl.metadata (1.5 kB)\n",
      "Collecting nvidia-cuda-cupti-cu12==12.4.127 (from torch)\n",
      "  Downloading nvidia_cuda_cupti_cu12-12.4.127-py3-none-manylinux2014_x86_64.whl.metadata (1.6 kB)\n",
      "Collecting nvidia-cudnn-cu12==9.1.0.70 (from torch)\n",
      "  Downloading nvidia_cudnn_cu12-9.1.0.70-py3-none-manylinux2014_x86_64.whl.metadata (1.6 kB)\n",
      "Collecting nvidia-cublas-cu12==12.4.5.8 (from torch)\n",
      "  Downloading nvidia_cublas_cu12-12.4.5.8-py3-none-manylinux2014_x86_64.whl.metadata (1.5 kB)\n",
      "Collecting nvidia-cufft-cu12==11.2.1.3 (from torch)\n",
      "  Downloading nvidia_cufft_cu12-11.2.1.3-py3-none-manylinux2014_x86_64.whl.metadata (1.5 kB)\n",
      "Collecting nvidia-curand-cu12==10.3.5.147 (from torch)\n",
      "  Downloading nvidia_curand_cu12-10.3.5.147-py3-none-manylinux2014_x86_64.whl.metadata (1.5 kB)\n",
      "Collecting nvidia-cusolver-cu12==11.6.1.9 (from torch)\n",
      "  Downloading nvidia_cusolver_cu12-11.6.1.9-py3-none-manylinux2014_x86_64.whl.metadata (1.6 kB)\n",
      "Collecting nvidia-cusparse-cu12==12.3.1.170 (from torch)\n",
      "  Downloading nvidia_cusparse_cu12-12.3.1.170-py3-none-manylinux2014_x86_64.whl.metadata (1.6 kB)\n",
      "Collecting nvidia-nccl-cu12==2.21.5 (from torch)\n",
      "  Downloading nvidia_nccl_cu12-2.21.5-py3-none-manylinux2014_x86_64.whl.metadata (1.8 kB)\n",
      "Collecting nvidia-nvtx-cu12==12.4.127 (from torch)\n",
      "  Downloading nvidia_nvtx_cu12-12.4.127-py3-none-manylinux2014_x86_64.whl.metadata (1.7 kB)\n",
      "Collecting nvidia-nvjitlink-cu12==12.4.127 (from torch)\n",
      "  Downloading nvidia_nvjitlink_cu12-12.4.127-py3-none-manylinux2014_x86_64.whl.metadata (1.5 kB)\n",
      "Collecting triton==3.1.0 (from torch)\n",
      "  Downloading triton-3.1.0-cp312-cp312-manylinux_2_17_x86_64.manylinux2014_x86_64.whl.metadata (1.3 kB)\n",
      "Requirement already satisfied: setuptools in /opt/conda/lib/python3.12/site-packages (from torch) (75.1.0)\n",
      "Collecting sympy==1.13.1 (from torch)\n",
      "  Downloading sympy-1.13.1-py3-none-any.whl.metadata (12 kB)\n",
      "Collecting mpmath<1.4,>=1.1.0 (from sympy==1.13.1->torch)\n",
      "  Downloading mpmath-1.3.0-py3-none-any.whl.metadata (8.6 kB)\n",
      "Requirement already satisfied: MarkupSafe>=2.0 in /opt/conda/lib/python3.12/site-packages (from jinja2->torch) (3.0.2)\n",
      "Downloading torch-2.5.1-cp312-cp312-manylinux1_x86_64.whl (906.4 MB)\n",
      "\u001b[2K   \u001b[90m━━━━━━━━━━━━━━━━━━━━━━━━━━━━━━━━━━━━━━━━\u001b[0m \u001b[32m906.4/906.4 MB\u001b[0m \u001b[31m39.4 MB/s\u001b[0m eta \u001b[36m0:00:00\u001b[0m00:01\u001b[0m00:01\u001b[0m\n",
      "\u001b[?25hDownloading nvidia_cublas_cu12-12.4.5.8-py3-none-manylinux2014_x86_64.whl (363.4 MB)\n",
      "\u001b[2K   \u001b[90m━━━━━━━━━━━━━━━━━━━━━━━━━━━━━━━━━━━━━━━━\u001b[0m \u001b[32m363.4/363.4 MB\u001b[0m \u001b[31m65.0 MB/s\u001b[0m eta \u001b[36m0:00:00\u001b[0m00:01\u001b[0m00:01\u001b[0m\n",
      "\u001b[?25hDownloading nvidia_cuda_cupti_cu12-12.4.127-py3-none-manylinux2014_x86_64.whl (13.8 MB)\n",
      "\u001b[2K   \u001b[90m━━━━━━━━━━━━━━━━━━━━━━━━━━━━━━━━━━━━━━━━\u001b[0m \u001b[32m13.8/13.8 MB\u001b[0m \u001b[31m70.9 MB/s\u001b[0m eta \u001b[36m0:00:00\u001b[0m\n",
      "\u001b[?25hDownloading nvidia_cuda_nvrtc_cu12-12.4.127-py3-none-manylinux2014_x86_64.whl (24.6 MB)\n",
      "\u001b[2K   \u001b[90m━━━━━━━━━━━━━━━━━━━━━━━━━━━━━━━━━━━━━━━━\u001b[0m \u001b[32m24.6/24.6 MB\u001b[0m \u001b[31m78.4 MB/s\u001b[0m eta \u001b[36m0:00:00\u001b[0mta \u001b[36m0:00:01\u001b[0m\n",
      "\u001b[?25hDownloading nvidia_cuda_runtime_cu12-12.4.127-py3-none-manylinux2014_x86_64.whl (883 kB)\n",
      "\u001b[2K   \u001b[90m━━━━━━━━━━━━━━━━━━━━━━━━━━━━━━━━━━━━━━━━\u001b[0m \u001b[32m883.7/883.7 kB\u001b[0m \u001b[31m34.7 MB/s\u001b[0m eta \u001b[36m0:00:00\u001b[0m\n",
      "\u001b[?25hDownloading nvidia_cudnn_cu12-9.1.0.70-py3-none-manylinux2014_x86_64.whl (664.8 MB)\n",
      "\u001b[2K   \u001b[90m━━━━━━━━━━━━━━━━━━━━━━━━━━━━━━━━━━━━━━━━\u001b[0m \u001b[32m664.8/664.8 MB\u001b[0m \u001b[31m50.2 MB/s\u001b[0m eta \u001b[36m0:00:00\u001b[0m00:01\u001b[0m00:01\u001b[0m\n",
      "\u001b[?25hDownloading nvidia_cufft_cu12-11.2.1.3-py3-none-manylinux2014_x86_64.whl (211.5 MB)\n",
      "\u001b[2K   \u001b[90m━━━━━━━━━━━━━━━━━━━━━━━━━━━━━━━━━━━━━━━━\u001b[0m \u001b[32m211.5/211.5 MB\u001b[0m \u001b[31m91.1 MB/s\u001b[0m eta \u001b[36m0:00:00\u001b[0m00:01\u001b[0m00:01\u001b[0m\n",
      "\u001b[?25hDownloading nvidia_curand_cu12-10.3.5.147-py3-none-manylinux2014_x86_64.whl (56.3 MB)\n",
      "\u001b[2K   \u001b[90m━━━━━━━━━━━━━━━━━━━━━━━━━━━━━━━━━━━━━━━━\u001b[0m \u001b[32m56.3/56.3 MB\u001b[0m \u001b[31m86.5 MB/s\u001b[0m eta \u001b[36m0:00:00\u001b[0m:00:01\u001b[0m00:01\u001b[0m\n",
      "\u001b[?25hDownloading nvidia_cusolver_cu12-11.6.1.9-py3-none-manylinux2014_x86_64.whl (127.9 MB)\n",
      "\u001b[2K   \u001b[90m━━━━━━━━━━━━━━━━━━━━━━━━━━━━━━━━━━━━━━━━\u001b[0m \u001b[32m127.9/127.9 MB\u001b[0m \u001b[31m83.8 MB/s\u001b[0m eta \u001b[36m0:00:00\u001b[0m00:01\u001b[0m00:01\u001b[0m\n",
      "\u001b[?25hDownloading nvidia_cusparse_cu12-12.3.1.170-py3-none-manylinux2014_x86_64.whl (207.5 MB)\n",
      "\u001b[2K   \u001b[90m━━━━━━━━━━━━━━━━━━━━━━━━━━━━━━━━━━━━━━━━\u001b[0m \u001b[32m207.5/207.5 MB\u001b[0m \u001b[31m85.6 MB/s\u001b[0m eta \u001b[36m0:00:00\u001b[0m00:01\u001b[0m00:01\u001b[0m\n",
      "\u001b[?25hDownloading nvidia_nccl_cu12-2.21.5-py3-none-manylinux2014_x86_64.whl (188.7 MB)\n",
      "\u001b[2K   \u001b[90m━━━━━━━━━━━━━━━━━━━━━━━━━━━━━━━━━━━━━━━━\u001b[0m \u001b[32m188.7/188.7 MB\u001b[0m \u001b[31m92.0 MB/s\u001b[0m eta \u001b[36m0:00:00\u001b[0m00:01\u001b[0m00:01\u001b[0m\n",
      "\u001b[?25hDownloading nvidia_nvjitlink_cu12-12.4.127-py3-none-manylinux2014_x86_64.whl (21.1 MB)\n",
      "\u001b[2K   \u001b[90m━━━━━━━━━━━━━━━━━━━━━━━━━━━━━━━━━━━━━━━━\u001b[0m \u001b[32m21.1/21.1 MB\u001b[0m \u001b[31m83.7 MB/s\u001b[0m eta \u001b[36m0:00:00\u001b[0m:00:01\u001b[0m\n",
      "\u001b[?25hDownloading nvidia_nvtx_cu12-12.4.127-py3-none-manylinux2014_x86_64.whl (99 kB)\n",
      "Downloading sympy-1.13.1-py3-none-any.whl (6.2 MB)\n",
      "\u001b[2K   \u001b[90m━━━━━━━━━━━━━━━━━━━━━━━━━━━━━━━━━━━━━━━━\u001b[0m \u001b[32m6.2/6.2 MB\u001b[0m \u001b[31m66.6 MB/s\u001b[0m eta \u001b[36m0:00:00\u001b[0m\n",
      "\u001b[?25hDownloading triton-3.1.0-cp312-cp312-manylinux_2_17_x86_64.manylinux2014_x86_64.whl (209.6 MB)\n",
      "\u001b[2K   \u001b[90m━━━━━━━━━━━━━━━━━━━━━━━━━━━━━━━━━━━━━━━━\u001b[0m \u001b[32m209.6/209.6 MB\u001b[0m \u001b[31m90.2 MB/s\u001b[0m eta \u001b[36m0:00:00\u001b[0m00:01\u001b[0m00:01\u001b[0m\n",
      "\u001b[?25hDownloading torch_vision-0.1.6.dev0-py2.py3-none-any.whl (23 kB)\n",
      "Downloading filelock-3.16.1-py3-none-any.whl (16 kB)\n",
      "Downloading mpmath-1.3.0-py3-none-any.whl (536 kB)\n",
      "\u001b[2K   \u001b[90m━━━━━━━━━━━━━━━━━━━━━━━━━━━━━━━━━━━━━━━━\u001b[0m \u001b[32m536.2/536.2 kB\u001b[0m \u001b[31m46.7 MB/s\u001b[0m eta \u001b[36m0:00:00\u001b[0m\n",
      "\u001b[?25hInstalling collected packages: torch-vision, mpmath, sympy, nvidia-nvtx-cu12, nvidia-nvjitlink-cu12, nvidia-nccl-cu12, nvidia-curand-cu12, nvidia-cufft-cu12, nvidia-cuda-runtime-cu12, nvidia-cuda-nvrtc-cu12, nvidia-cuda-cupti-cu12, nvidia-cublas-cu12, filelock, triton, nvidia-cusparse-cu12, nvidia-cudnn-cu12, nvidia-cusolver-cu12, torch\n",
      "Successfully installed filelock-3.16.1 mpmath-1.3.0 nvidia-cublas-cu12-12.4.5.8 nvidia-cuda-cupti-cu12-12.4.127 nvidia-cuda-nvrtc-cu12-12.4.127 nvidia-cuda-runtime-cu12-12.4.127 nvidia-cudnn-cu12-9.1.0.70 nvidia-cufft-cu12-11.2.1.3 nvidia-curand-cu12-10.3.5.147 nvidia-cusolver-cu12-11.6.1.9 nvidia-cusparse-cu12-12.3.1.170 nvidia-nccl-cu12-2.21.5 nvidia-nvjitlink-cu12-12.4.127 nvidia-nvtx-cu12-12.4.127 sympy-1.13.1 torch-2.5.1 torch-vision-0.1.6.dev0 triton-3.1.0\n"
     ]
    }
   ],
   "source": [
    "!pip3 install torch torch-vision"
   ]
  },
  {
   "cell_type": "code",
   "execution_count": 4,
   "id": "2d1342aa-c3bb-403f-9ca0-f987bcb9a0b9",
   "metadata": {},
   "outputs": [],
   "source": [
    "import torch"
   ]
  },
  {
   "cell_type": "markdown",
   "id": "c36e2d09-d053-47b5-bb4c-1dba08c20425",
   "metadata": {},
   "source": [
    "PyTorch, as any deep learning library, works with *tensors*. Tensors generalize scalars, vectors, and matrices. In particular, each of these objects can be thought of as a map from a product of vector spaces to the real numbers. For example, every vector $v \\in \\mathbb{R}^d$ can be associated to a unique linear map from $\\mathbb{R}^d \\to \\mathbb{R}$ via $x \\mapsto v^T x$. And a matrix $M \\in \\mathbb{R}^{m \\times n}$ can be associated to the unique bi-linear (this means it is linear in each argument separately) map from $\\mathbb{R}^m \\times \\mathbb{R}^n \\to \\mathbb{R}$ which takes $(x, y) \\mapsto y^T Mx$.\n",
    "\n",
    "More abstractly, given a product of vector spaces $V := V_1 \\times V_2 \\times \\cdots \\times V_K$, we say a map $T \\colon V \\to W$ where $W$ is another vector space is *multi-linear* if for all choices of $k \\in [K]$ and fixed\n",
    "$$\n",
    "v_1 \\in V_1, v_2 \\in V_2, \\ldots v_{k - 1} \\in V_{k - 1}, v_{k + 1} \\in V_{k + 1},\\ldots,\n",
    "v_K \\in V_K,\n",
    "$$ the map which takes\n",
    "$$\n",
    "v \\in V_k \\mapsto T(v_1, \\ldots, v_{k - 1}, v, v_{k + 1}, \\ldots, v_K)\n",
    "$$ is linear. Tensors are just another name for multi-linear maps, and the integer $K$ is known as the *rank* of the tensor.\n",
    "\n",
    "Multi-linear maps/tensors arise naturally in multivariable calculus, differential geometry, physics and many other areas. In machine learning, they are not described in such an abstract way but they arise just as naturally, being a clean way of thinking about multi-dimensional arrays. The indices of each of these arrays generally look like `[data set index, feature index 1, feature index 2, ...]`; for example in convolutional neural networks the first feature index indicates the data dimension, and the second feature index indicates the channel (RGB).\n",
    "\n",
    "Let's start by creating and manipulating some tensors in PyTorch."
   ]
  },
  {
   "cell_type": "code",
   "execution_count": 5,
   "id": "9ca9efb4-f81e-4e45-aa90-1f799951241d",
   "metadata": {},
   "outputs": [
    {
     "name": "stdout",
     "output_type": "stream",
     "text": [
      "tensor([1, 2, 3])\n",
      "tensor([4, 5, 6], dtype=torch.int32)\n"
     ]
    }
   ],
   "source": [
    "import numpy as np\n",
    "\n",
    "a = [1, 2, 3]\n",
    "b = np.array([4, 5, 6], dtype=np.int32)\n",
    "\n",
    "t_a = torch.tensor(a)\n",
    "t_b = torch.from_numpy(b)\n",
    "\n",
    "print(t_a)\n",
    "print(t_b)"
   ]
  },
  {
   "cell_type": "markdown",
   "id": "7a253880-c03b-4b48-8164-a524821ac701",
   "metadata": {},
   "source": [
    "We can check if objects are torch tensors via"
   ]
  },
  {
   "cell_type": "code",
   "execution_count": 6,
   "id": "43342072-ba26-401b-9dce-60eafe04b28c",
   "metadata": {},
   "outputs": [
    {
     "data": {
      "text/plain": [
       "(False, True)"
      ]
     },
     "execution_count": 6,
     "metadata": {},
     "output_type": "execute_result"
    }
   ],
   "source": [
    "torch.is_tensor(a), torch.is_tensor(t_a)"
   ]
  },
  {
   "cell_type": "markdown",
   "id": "56426621-cccc-47bd-8b68-a672b5400e3b",
   "metadata": {},
   "source": [
    "Similar to NumPy we can make all-ones tensors with the following."
   ]
  },
  {
   "cell_type": "code",
   "execution_count": 7,
   "id": "b90167cf-0059-4830-a9fe-9674366685c7",
   "metadata": {},
   "outputs": [
    {
     "name": "stdout",
     "output_type": "stream",
     "text": [
      "tensor([[1., 1., 1.],\n",
      "        [1., 1., 1.]])\n"
     ]
    }
   ],
   "source": [
    "t_ones = torch.ones(2, 3)\n",
    "print(t_ones)"
   ]
  },
  {
   "cell_type": "markdown",
   "id": "92ff2060-202a-431f-a48e-062d60c8ca6f",
   "metadata": {},
   "source": [
    "Think about what the following should return before you run the code"
   ]
  },
  {
   "cell_type": "code",
   "execution_count": 8,
   "id": "25d0bfa2-3f0a-4052-b6f0-e3c71c074a2b",
   "metadata": {},
   "outputs": [
    {
     "name": "stdout",
     "output_type": "stream",
     "text": [
      "tensor(24.)\n"
     ]
    }
   ],
   "source": [
    "print(torch.sum(torch.ones(2, 3, 4)))"
   ]
  },
  {
   "cell_type": "markdown",
   "id": "81f249da-d2f9-4eb0-8da3-0989e5b43f56",
   "metadata": {},
   "source": [
    "We can also manipulate tensors in the following way (should be recognizable if you are familiar with NumPy)"
   ]
  },
  {
   "cell_type": "code",
   "execution_count": 9,
   "id": "e6362501-517c-475c-9d9d-70492108d5b7",
   "metadata": {},
   "outputs": [
    {
     "name": "stdout",
     "output_type": "stream",
     "text": [
      "torch.Size([3, 5])  -->  torch.Size([5, 3])\n"
     ]
    }
   ],
   "source": [
    "t = torch.rand(3, 5)\n",
    "\n",
    "# observe carefully that when we work with tensors we need to\n",
    "# specify the axes that we perform the transpose on\n",
    "t_tr = torch.transpose(t, 0, 1) # on transpose la première (0) avec la deuxième (1) dimension ?\n",
    "print(t.shape, ' --> ', t_tr.shape)"
   ]
  },
  {
   "cell_type": "code",
   "execution_count": 10,
   "id": "f7e2e496-0ec9-467d-b098-cab9508fdd38",
   "metadata": {},
   "outputs": [
    {
     "name": "stdout",
     "output_type": "stream",
     "text": [
      "torch.Size([5, 6])\n"
     ]
    }
   ],
   "source": [
    "t = torch.zeros(30)\n",
    "\n",
    "t_reshape = t.reshape(5, 6) # Fonctionne car 30 = 5*6\n",
    "\n",
    "print(t_reshape.shape)"
   ]
  },
  {
   "cell_type": "code",
   "execution_count": 14,
   "id": "01559d4b-6c5c-4b17-8058-97d5b32fddee",
   "metadata": {},
   "outputs": [
    {
     "data": {
      "text/plain": [
       "tensor([[0., 0., 0., 0., 0., 0.],\n",
       "        [0., 0., 0., 0., 0., 0.],\n",
       "        [0., 0., 0., 0., 0., 0.],\n",
       "        [0., 0., 0., 0., 0., 0.],\n",
       "        [0., 0., 0., 0., 0., 0.]])"
      ]
     },
     "execution_count": 14,
     "metadata": {},
     "output_type": "execute_result"
    }
   ],
   "source": [
    "t_reshape"
   ]
  },
  {
   "cell_type": "markdown",
   "id": "5040ad01-2c36-4f73-bb06-c0edb99a80cb",
   "metadata": {},
   "source": [
    "It's also often helpful to get rid of extraneous axes using the squeeze functionality"
   ]
  },
  {
   "cell_type": "code",
   "execution_count": 11,
   "id": "1c89a57e-cb79-4027-9c21-e944e06815b9",
   "metadata": {},
   "outputs": [
    {
     "name": "stdout",
     "output_type": "stream",
     "text": [
      "torch.Size([1, 2, 1, 4, 1])  -->  torch.Size([1, 2, 4, 1])\n"
     ]
    }
   ],
   "source": [
    "t = torch.zeros(1, 2, 1, 4, 1)\n",
    "\n",
    "# Supprime une dimension (ici la 3ème)\n",
    "t_sqz = torch.squeeze(t, 2)\n",
    "\n",
    "print(t.shape, ' --> ', t_sqz.shape)"
   ]
  },
  {
   "cell_type": "markdown",
   "id": "cc9af669-8e12-4ab8-add4-4229ca4abcb2",
   "metadata": {},
   "source": [
    "It is very important that we understand how to use the basic mathematical operations on tensors. The following code executes element-wise multiplication, summing along an axis, matrix multiplication, and norms"
   ]
  },
  {
   "cell_type": "code",
   "execution_count": 12,
   "id": "88774ee5-164a-495b-ac2c-1b15a5553d1e",
   "metadata": {},
   "outputs": [
    {
     "name": "stdout",
     "output_type": "stream",
     "text": [
      "tensor([[ 0.4426, -0.3114],\n",
      "        [ 0.0660, -0.5970],\n",
      "        [ 1.1249,  0.0150],\n",
      "        [ 0.1569,  0.7107],\n",
      "        [-0.0451, -0.0352]])\n"
     ]
    }
   ],
   "source": [
    "torch.manual_seed(1)\n",
    "\n",
    "t1 = 2 * torch.rand(5, 2) - 1\n",
    "t2 = torch.normal(mean=0, std=1, size=(5, 2))\n",
    "\n",
    "t3 = torch.multiply(t1, t2)\n",
    "print(t3)"
   ]
  },
  {
   "cell_type": "code",
   "execution_count": 13,
   "id": "1b145ca9-552a-4225-8892-dc2cf4436f5b",
   "metadata": {},
   "outputs": [
    {
     "name": "stdout",
     "output_type": "stream",
     "text": [
      "tensor([-0.1373,  0.2028])\n"
     ]
    }
   ],
   "source": [
    "t4 = torch.mean(t1, axis=0)\n",
    "print(t4)"
   ]
  },
  {
   "cell_type": "code",
   "execution_count": 15,
   "id": "44225107-44e6-4853-86ed-4e8079bc7325",
   "metadata": {},
   "outputs": [
    {
     "name": "stdout",
     "output_type": "stream",
     "text": [
      "tensor([[ 0.1312,  0.3860, -0.6267, -1.0096, -0.2943],\n",
      "        [ 0.1647, -0.5310,  0.2434,  0.8035,  0.1980],\n",
      "        [-0.3855, -0.4422,  1.1399,  1.5558,  0.4781],\n",
      "        [ 0.1822, -0.5771,  0.2585,  0.8676,  0.2132],\n",
      "        [ 0.0330,  0.1084, -0.1692, -0.2771, -0.0804]])\n"
     ]
    }
   ],
   "source": [
    "# Matrices multipication (not element wise)\n",
    "t5 = torch.matmul(t1, torch.transpose(t2, 0, 1))\n",
    "print(t5)"
   ]
  },
  {
   "cell_type": "code",
   "execution_count": 16,
   "id": "97c9aa56-a6c3-4370-b14c-91fea0244a7c",
   "metadata": {},
   "outputs": [
    {
     "name": "stdout",
     "output_type": "stream",
     "text": [
      "tensor([[ 1.7453,  0.3392],\n",
      "        [-1.6038, -0.2180]])\n"
     ]
    }
   ],
   "source": [
    "t6 = torch.matmul(torch.transpose(t1, 0, 1), t2)\n",
    "print(t6)"
   ]
  },
  {
   "cell_type": "code",
   "execution_count": 17,
   "id": "1999cb08-af40-46a3-8a0f-cd6b8f2326d8",
   "metadata": {},
   "outputs": [
    {
     "name": "stdout",
     "output_type": "stream",
     "text": [
      "tensor(1.4696)\n"
     ]
    }
   ],
   "source": [
    "norm_t1 = torch.linalg.norm(t1, ord=2)\n",
    "print(norm_t1)"
   ]
  },
  {
   "cell_type": "markdown",
   "id": "ddb8300a-6e69-4b4d-b554-8a2857c987da",
   "metadata": {},
   "source": [
    "**Module for managing your datasets** PyTorch offers a convenient module for loading and batching your dataset."
   ]
  },
  {
   "cell_type": "code",
   "execution_count": 18,
   "id": "315ecf2c-9c34-46ef-86ef-5ced0933e443",
   "metadata": {},
   "outputs": [
    {
     "name": "stdout",
     "output_type": "stream",
     "text": [
      "tensor([0.])\n",
      "tensor([1.])\n",
      "tensor([2.])\n",
      "tensor([3.])\n",
      "tensor([4.])\n",
      "tensor([5.])\n"
     ]
    }
   ],
   "source": [
    "from torch.utils.data import DataLoader\n",
    "\n",
    "t = torch.arange(6, dtype=torch.float32)\n",
    "data_loader = DataLoader(t)\n",
    "\n",
    "for item in data_loader:\n",
    "    print(item)"
   ]
  },
  {
   "cell_type": "markdown",
   "id": "26889c4c-ef3a-4603-944c-ab3629224e30",
   "metadata": {},
   "source": [
    "We can also batch this dataset as"
   ]
  },
  {
   "cell_type": "code",
   "execution_count": 19,
   "id": "f818a2f4-6c15-44fb-89e9-19b202288189",
   "metadata": {},
   "outputs": [
    {
     "name": "stdout",
     "output_type": "stream",
     "text": [
      "batch 1: tensor([0., 1., 2.])\n",
      "batch 2: tensor([3., 4., 5.])\n"
     ]
    }
   ],
   "source": [
    "data_loader = DataLoader(t, batch_size=3, drop_last=False)\n",
    "\n",
    "for i, batch in enumerate(data_loader, 1):\n",
    "    print(f'batch {i}:', batch)"
   ]
  },
  {
   "cell_type": "markdown",
   "id": "225f4ef6-3e8f-4b45-ba3f-4311a084fa65",
   "metadata": {},
   "source": [
    "**Training a linear regression model** Let's build up to implementing a deep learning model in PyTorch by implementing a linear regression model on some synthetic data. Here's the synthetic data we'll use:"
   ]
  },
  {
   "cell_type": "code",
   "execution_count": 20,
   "id": "c6c1b08b-4d13-41a8-bb30-d103d970cb89",
   "metadata": {},
   "outputs": [
    {
     "data": {
      "image/png": "[encoded data removed]",
      "text/plain": [
       "<Figure size 640x480 with 1 Axes>"
      ]
     },
     "metadata": {},
     "output_type": "display_data"
    }
   ],
   "source": [
    "import matplotlib.pyplot as plt\n",
    "\n",
    "X_train = np.arange(10, dtype='float32').reshape((10, 1))\n",
    "y_train = np.array([1.0, 1.3, 3.1, 2.0, 5.0, 6.3, 6.6, \n",
    "                    7.4, 8.0, 9.0], dtype='float32')\n",
    "\n",
    "plt.plot(X_train, y_train, 'o', markersize=10)\n",
    "plt.xlabel('x')\n",
    "plt.ylabel('y')\n",
    "\n",
    "#plt.savefig('figures/12_07.pdf')\n",
    "plt.show()"
   ]
  },
  {
   "cell_type": "markdown",
   "id": "c170f6cd-bad5-48d8-bead-6eb933b5000d",
   "metadata": {},
   "source": [
    "Let's do our usual pre-processing step of centering and normalizing the features of the data."
   ]
  },
  {
   "cell_type": "code",
   "execution_count": 21,
   "id": "b634eb5b-cc44-453a-b46a-455c5eff1255",
   "metadata": {},
   "outputs": [],
   "source": [
    "from torch.utils.data import TensorDataset\n",
    "\n",
    "X_train_norm = (X_train - np.mean(X_train)) / np.std(X_train)\n",
    "X_train_norm = torch.from_numpy(X_train_norm)\n",
    "\n",
    "y_train = torch.from_numpy(y_train).float()\n",
    "\n",
    "train_ds = TensorDataset(X_train_norm, y_train)\n",
    "\n",
    "batch_size = 1\n",
    "train_dl = DataLoader(train_ds, batch_size, shuffle=True)"
   ]
  },
  {
   "cell_type": "markdown",
   "id": "20b47b2e-d0de-46a7-9005-dc94216e82a8",
   "metadata": {},
   "source": [
    "Now, let's implement our actual linear regression model. We'll see the reason for some of this code later, so don't expect to understand it 100% now. First, we'll initialize the weights and define the model (affine map) and loss function (MSE)."
   ]
  },
  {
   "cell_type": "code",
   "execution_count": 22,
   "id": "86a310af-c072-4222-83ec-eef45c17b53d",
   "metadata": {},
   "outputs": [],
   "source": [
    "torch.manual_seed(1)\n",
    "weight = torch.randn(1)\n",
    "weight.requires_grad_()\n",
    "bias = torch.zeros(1, requires_grad=True)\n",
    " \n",
    "def loss_fn(input, target):\n",
    "    return (input-target).pow(2).mean()\n",
    "\n",
    "def model(xb):\n",
    "    return xb @ weight + bias\n"
   ]
  },
  {
   "cell_type": "markdown",
   "id": "c6142321-563b-46b7-9f74-55acc3a2956c",
   "metadata": {},
   "source": [
    "Then, we'll set the learning rate and iterate over the batches in the training dataset. Observe carefully how we use the `loss.backward()` call to compute the gradients and then use the gradients and the learning rates to update, we'll comment on this more below."
   ]
  },
  {
   "cell_type": "code",
   "execution_count": 23,
   "id": "6ca36def-4d7b-47f1-9dcc-f013bf8ded93",
   "metadata": {},
   "outputs": [
    {
     "name": "stdout",
     "output_type": "stream",
     "text": [
      "Epoch 0  Loss 45.0782\n",
      "Epoch 10  Loss 26.4366\n",
      "Epoch 20  Loss 1.5918\n",
      "Epoch 30  Loss 14.1307\n",
      "Epoch 40  Loss 11.6038\n",
      "Epoch 50  Loss 6.3084\n",
      "Epoch 60  Loss 0.6349\n",
      "Epoch 70  Loss 3.1374\n",
      "Epoch 80  Loss 1.9999\n",
      "Epoch 90  Loss 0.3133\n",
      "Epoch 100  Loss 0.7653\n",
      "Epoch 110  Loss 1.0039\n",
      "Epoch 120  Loss 0.0235\n",
      "Epoch 130  Loss 0.5176\n",
      "Epoch 140  Loss 0.0759\n",
      "Epoch 150  Loss 1.8789\n",
      "Epoch 160  Loss 0.0008\n",
      "Epoch 170  Loss 0.0866\n",
      "Epoch 180  Loss 0.0646\n",
      "Epoch 190  Loss 0.0011\n"
     ]
    }
   ],
   "source": [
    "learning_rate = 0.001\n",
    "num_epochs = 200\n",
    "log_epochs = 10\n",
    "\n",
    "for epoch in range(num_epochs):\n",
    "    for x_batch, y_batch in train_dl:\n",
    "        pred = model(x_batch)\n",
    "        loss = loss_fn(pred, y_batch)\n",
    "        loss.backward()\n",
    "\n",
    "        with torch.no_grad():\n",
    "            weight -= weight.grad * learning_rate\n",
    "            bias -= bias.grad * learning_rate\n",
    "            weight.grad.zero_()\n",
    "            bias.grad.zero_()\n",
    " \n",
    "    if epoch % log_epochs==0:\n",
    "        print(f'Epoch {epoch}  Loss {loss.item():.4f}')"
   ]
  },
  {
   "cell_type": "markdown",
   "id": "804a30b8-51ba-4139-9389-a118c9919353",
   "metadata": {},
   "source": [
    "Let's check the final parameters and evaluate the model on a synthetic \"test\" dataset."
   ]
  },
  {
   "cell_type": "code",
   "execution_count": 24,
   "id": "b17dc23a-187d-43ae-ba75-1aafa2332c01",
   "metadata": {},
   "outputs": [
    {
     "name": "stdout",
     "output_type": "stream",
     "text": [
      "Final Parameters: 2.6696107387542725 4.879678249359131\n"
     ]
    },
    {
     "data": {
      "image/png": "[encoded data removed]",
      "text/plain": [
       "<Figure size 1300x500 with 1 Axes>"
      ]
     },
     "metadata": {},
     "output_type": "display_data"
    }
   ],
   "source": [
    "print('Final Parameters:', weight.item(), bias.item())\n",
    " \n",
    "X_test = np.linspace(0, 9, num=100, dtype='float32').reshape(-1, 1)\n",
    "X_test_norm = (X_test - np.mean(X_train)) / np.std(X_train)\n",
    "X_test_norm = torch.from_numpy(X_test_norm)\n",
    "y_pred = model(X_test_norm).detach().numpy()\n",
    "\n",
    "\n",
    "fig = plt.figure(figsize=(13, 5))\n",
    "ax = fig.add_subplot(1, 2, 1)\n",
    "plt.plot(X_train_norm, y_train, 'o', markersize=10)\n",
    "plt.plot(X_test_norm, y_pred, '--', lw=3)\n",
    "plt.legend(['Training examples', 'Linear Reg.'], fontsize=15)\n",
    "ax.set_xlabel('x', size=15)\n",
    "ax.set_ylabel('y', size=15)\n",
    "ax.tick_params(axis='both', which='major', labelsize=15)\n",
    " \n",
    "#plt.savefig('figures/12_08.pdf')\n",
    "\n",
    "plt.show()"
   ]
  },
  {
   "cell_type": "markdown",
   "id": "e8b5af35-65be-41fd-a034-263c8c8c0b88",
   "metadata": {},
   "source": [
    "**The PyTorch neural networks module.** The `torch.nn` module is a powerful module for implementing neural networks. The following code does the same thing as above but with torch.nn objects."
   ]
  },
  {
   "cell_type": "code",
   "execution_count": 25,
   "id": "fe478724-756d-43ac-b122-983ceb42cd35",
   "metadata": {},
   "outputs": [
    {
     "name": "stdout",
     "output_type": "stream",
     "text": [
      "Epoch 0  Loss 24.6684\n",
      "Epoch 10  Loss 29.1377\n",
      "Epoch 20  Loss 20.9207\n",
      "Epoch 30  Loss 0.1257\n",
      "Epoch 40  Loss 12.4922\n",
      "Epoch 50  Loss 1.7845\n",
      "Epoch 60  Loss 7.6425\n",
      "Epoch 70  Loss 2.5606\n",
      "Epoch 80  Loss 0.0157\n",
      "Epoch 90  Loss 0.7548\n",
      "Epoch 100  Loss 0.8412\n",
      "Epoch 110  Loss 0.4923\n",
      "Epoch 120  Loss 0.0823\n",
      "Epoch 130  Loss 0.0794\n",
      "Epoch 140  Loss 0.0891\n",
      "Epoch 150  Loss 0.0973\n",
      "Epoch 160  Loss 0.1043\n",
      "Epoch 170  Loss 0.1103\n",
      "Epoch 180  Loss 0.0009\n",
      "Epoch 190  Loss 0.0764\n"
     ]
    }
   ],
   "source": [
    "import torch.nn as nn\n",
    "\n",
    "input_size = 1\n",
    "output_size = 1\n",
    "\n",
    "# This is the torch.nn analog of our model method\n",
    "model = nn.Linear(input_size, output_size)\n",
    "\n",
    "# This is the torch.nn analog of our loss_fn method\n",
    "loss_fn = nn.MSELoss(reduction='mean')\n",
    "\n",
    "# This sets up the SGD optimization\n",
    "optimizer = torch.optim.SGD(model.parameters(), lr=learning_rate)\n",
    "\n",
    "for epoch in range(num_epochs):\n",
    "    for x_batch, y_batch in train_dl:\n",
    "        # 1. Generate predictions\n",
    "        pred = model(x_batch)[:, 0] \n",
    "\n",
    "        # 2. Calculate loss\n",
    "        loss = loss_fn(pred, y_batch)\n",
    "\n",
    "        # 3. Compute gradients\n",
    "        loss.backward()\n",
    "\n",
    "        # 4. Update parameters using gradients\n",
    "        optimizer.step()\n",
    "\n",
    "        # 5. Reset the gradients to zero\n",
    "        optimizer.zero_grad()\n",
    "        \n",
    "    if epoch % log_epochs==0:\n",
    "        print(f'Epoch {epoch}  Loss {loss.item():.4f}')"
   ]
  },
  {
   "cell_type": "markdown",
   "id": "dad6d924-ec46-46a1-8161-29cde00bc785",
   "metadata": {},
   "source": [
    "Let's look at our final parameters and \"test\" performance."
   ]
  },
  {
   "cell_type": "code",
   "execution_count": 26,
   "id": "7c5d21fe-d697-4d1b-8985-933cc1675372",
   "metadata": {},
   "outputs": [
    {
     "name": "stdout",
     "output_type": "stream",
     "text": [
      "Final Parameters: 2.6496422290802 4.87706995010376\n"
     ]
    },
    {
     "data": {
      "image/png": "[encoded data removed]",
      "text/plain": [
       "<Figure size 1300x500 with 1 Axes>"
      ]
     },
     "metadata": {},
     "output_type": "display_data"
    }
   ],
   "source": [
    "print('Final Parameters:', model.weight.item(), model.bias.item())\n",
    " \n",
    "X_test = np.linspace(0, 9, num=100, dtype='float32').reshape(-1, 1)\n",
    "X_test_norm = (X_test - np.mean(X_train)) / np.std(X_train)\n",
    "X_test_norm = torch.from_numpy(X_test_norm)\n",
    "y_pred = model(X_test_norm).detach().numpy()\n",
    "\n",
    "\n",
    "fig = plt.figure(figsize=(13, 5))\n",
    "ax = fig.add_subplot(1, 2, 1)\n",
    "plt.plot(X_train_norm.detach().numpy(), y_train.detach().numpy(), 'o', markersize=10)\n",
    "plt.plot(X_test_norm.detach().numpy(), y_pred, '--', lw=3)\n",
    "plt.legend(['Training examples', 'Linear reg.'], fontsize=15)\n",
    "ax.set_xlabel('x', size=15)\n",
    "ax.set_ylabel('y', size=15)\n",
    "ax.tick_params(axis='both', which='major', labelsize=15)\n",
    "\n",
    "plt.show()"
   ]
  },
  {
   "cell_type": "markdown",
   "id": "1c7a4c92-0c25-4c83-8129-382fdf2f7580",
   "metadata": {},
   "source": [
    "**Finally, applying `torch.nn` to an actual neural network.** It should now be straightforward to apply `torch.nn` to build basic two layer perceptron for the Iris datset."
   ]
  },
  {
   "cell_type": "code",
   "execution_count": 27,
   "id": "8efb8a90-6a16-425b-b9a9-805e91e2497c",
   "metadata": {},
   "outputs": [],
   "source": [
    "from sklearn.datasets import load_iris\n",
    "from sklearn.model_selection import train_test_split \n",
    "\n",
    "iris = load_iris()\n",
    "X = iris['data']\n",
    "y = iris['target']\n",
    " \n",
    "X_train, X_test, y_train, y_test = train_test_split(\n",
    "    X, y, test_size=1./3, random_state=1)"
   ]
  },
  {
   "cell_type": "code",
   "execution_count": 28,
   "id": "2efee959-2b0f-4a7a-bae4-6f9d67c8c2da",
   "metadata": {},
   "outputs": [],
   "source": [
    "X_train_norm = (X_train - np.mean(X_train)) / np.std(X_train)\n",
    "X_train_norm = torch.from_numpy(X_train_norm).float()\n",
    "y_train = torch.from_numpy(y_train)\n",
    "\n",
    "train_ds = TensorDataset(X_train_norm, y_train)\n",
    "\n",
    "torch.manual_seed(1)\n",
    "batch_size = 2\n",
    "train_dl = DataLoader(train_ds, batch_size, shuffle=True)"
   ]
  },
  {
   "cell_type": "markdown",
   "id": "ba5c2d07-8390-4916-ad76-413ce534a5b7",
   "metadata": {},
   "source": [
    "The following code specifies our model as a two-layer perceptron with a sigmoid hidden layer and softmax output layer."
   ]
  },
  {
   "cell_type": "code",
   "execution_count": 29,
   "id": "bdf90ed7-2178-4ff5-934e-252ef9d2a631",
   "metadata": {},
   "outputs": [],
   "source": [
    "class Model(nn.Module):\n",
    "    def __init__(self, input_size, hidden_size, output_size):\n",
    "        super().__init__()\n",
    "        self.layer1 = nn.Linear(input_size, hidden_size)\n",
    "        self.layer2 = nn.Linear(hidden_size, output_size)\n",
    "\n",
    "    def forward(self, x):\n",
    "        x = self.layer1(x)\n",
    "        x = nn.Sigmoid()(x)\n",
    "        x = self.layer2(x)\n",
    "        x = nn.Softmax(dim=1)(x)\n",
    "        return x\n",
    "\n",
    "input_size = X_train_norm.shape[1]\n",
    "hidden_size = 16\n",
    "output_size = 3\n",
    " \n",
    "model = Model(input_size, hidden_size, output_size)\n",
    "\n",
    "learning_rate = 0.001"
   ]
  },
  {
   "cell_type": "markdown",
   "id": "0908cb2d-89b2-4aba-ad9b-67b5c105fbce",
   "metadata": {},
   "source": [
    "We'll use the cross-entropy loss, and the Adam optimization algorithm which is an augmented form of SGD (both of which we will unfortunately not have the time to get into)."
   ]
  },
  {
   "cell_type": "code",
   "execution_count": 30,
   "id": "8caac7ae-b795-4994-b647-6e94d3917da7",
   "metadata": {},
   "outputs": [],
   "source": [
    "loss_fn = nn.CrossEntropyLoss()\n",
    " \n",
    "optimizer = torch.optim.Adam(model.parameters(), lr=learning_rate)"
   ]
  },
  {
   "cell_type": "code",
   "execution_count": 37,
   "id": "3e305084-4992-4bce-af20-70f9720d6ae2",
   "metadata": {},
   "outputs": [],
   "source": [
    "num_epochs = 100\n",
    "loss_hist = [0] * num_epochs\n",
    "accuracy_hist = [0] * num_epochs\n",
    "\n",
    "for epoch in range(num_epochs):\n",
    "\n",
    "    for x_batch, y_batch in train_dl:\n",
    "        pred = model(x_batch)\n",
    "        loss = loss_fn(pred, y_batch.long())\n",
    "        # Compute the gradients, take a step in the optimization, and\n",
    "        # re-set the gradients to 0\n",
    "        ### YOUR CODE HERE ###\n",
    "\n",
    "        loss.backward()\n",
    "        optimizer.step()\n",
    "        optimizer.zero_grad()\n",
    "    \n",
    "        loss_hist[epoch] += loss.item()*y_batch.size(0)\n",
    "        is_correct = (torch.argmax(pred, dim=1) == y_batch).float()\n",
    "        accuracy_hist[epoch] += is_correct.sum()\n",
    "        \n",
    "    loss_hist[epoch] /= len(train_dl.dataset)\n",
    "    accuracy_hist[epoch] /= len(train_dl.dataset)"
   ]
  },
  {
   "cell_type": "markdown",
   "id": "78877454-81f9-4224-8a94-f599fde3a645",
   "metadata": {},
   "source": [
    "Let's look at the train performance over the optimization trajectory."
   ]
  },
  {
   "cell_type": "code",
   "execution_count": 38,
   "id": "34788d1b-7917-4bc8-9920-5ac73d513091",
   "metadata": {},
   "outputs": [
    {
     "data": {
      "image/png": "[encoded data removed]",
      "text/plain": [
       "<Figure size 1200x500 with 2 Axes>"
      ]
     },
     "metadata": {},
     "output_type": "display_data"
    }
   ],
   "source": [
    "fig = plt.figure(figsize=(12, 5))\n",
    "ax = fig.add_subplot(1, 2, 1)\n",
    "ax.plot(loss_hist, lw=3)\n",
    "ax.set_title('Training loss', size=15)\n",
    "ax.set_xlabel('Epoch', size=15)\n",
    "ax.tick_params(axis='both', which='major', labelsize=15)\n",
    "\n",
    "ax = fig.add_subplot(1, 2, 2)\n",
    "ax.plot(accuracy_hist, lw=3)\n",
    "ax.set_title('Training accuracy', size=15)\n",
    "ax.set_xlabel('Epoch', size=15)\n",
    "ax.tick_params(axis='both', which='major', labelsize=15)\n",
    "plt.tight_layout()\n",
    "\n",
    "#plt.savefig('figures/12_09.pdf')\n",
    " \n",
    "plt.show()"
   ]
  },
  {
   "cell_type": "markdown",
   "id": "c134c554-1ac6-4859-a8d2-0fa7f096d175",
   "metadata": {},
   "source": [
    "And look at test performance"
   ]
  },
  {
   "cell_type": "code",
   "execution_count": 39,
   "id": "0efee61b-7986-401a-858a-6b6c406930ba",
   "metadata": {},
   "outputs": [
    {
     "ename": "TypeError",
     "evalue": "expected np.ndarray (got Tensor)",
     "output_type": "error",
     "traceback": [
      "\u001b[0;31m---------------------------------------------------------------------------\u001b[0m",
      "\u001b[0;31mTypeError\u001b[0m                                 Traceback (most recent call last)",
      "Cell \u001b[0;32mIn[39], line 3\u001b[0m\n\u001b[1;32m      1\u001b[0m X_test_norm \u001b[38;5;241m=\u001b[39m (X_test \u001b[38;5;241m-\u001b[39m np\u001b[38;5;241m.\u001b[39mmean(X_train)) \u001b[38;5;241m/\u001b[39m np\u001b[38;5;241m.\u001b[39mstd(X_train)\n\u001b[1;32m      2\u001b[0m X_test_norm \u001b[38;5;241m=\u001b[39m torch\u001b[38;5;241m.\u001b[39mfrom_numpy(X_test_norm)\u001b[38;5;241m.\u001b[39mfloat()\n\u001b[0;32m----> 3\u001b[0m y_test \u001b[38;5;241m=\u001b[39m \u001b[43mtorch\u001b[49m\u001b[38;5;241;43m.\u001b[39;49m\u001b[43mfrom_numpy\u001b[49m\u001b[43m(\u001b[49m\u001b[43my_test\u001b[49m\u001b[43m)\u001b[49m \n\u001b[1;32m      4\u001b[0m pred_test \u001b[38;5;241m=\u001b[39m model(X_test_norm)\n\u001b[1;32m      6\u001b[0m correct \u001b[38;5;241m=\u001b[39m (torch\u001b[38;5;241m.\u001b[39margmax(pred_test, dim\u001b[38;5;241m=\u001b[39m\u001b[38;5;241m1\u001b[39m) \u001b[38;5;241m==\u001b[39m y_test)\u001b[38;5;241m.\u001b[39mfloat()\n",
      "\u001b[0;31mTypeError\u001b[0m: expected np.ndarray (got Tensor)"
     ]
    }
   ],
   "source": [
    "X_test_norm = (X_test - np.mean(X_train)) / np.std(X_train)\n",
    "X_test_norm = torch.from_numpy(X_test_norm).float()\n",
    "y_test = torch.from_numpy(y_test) \n",
    "pred_test = model(X_test_norm)\n",
    "\n",
    "correct = (torch.argmax(pred_test, dim=1) == y_test).float()\n",
    "accuracy = correct.mean()\n",
    " \n",
    "print(f'Test Acc.: {accuracy:.4f}')"
   ]
  },
  {
   "cell_type": "code",
   "execution_count": null,
   "id": "9ef2626d-a488-4c16-b4db-439a3755540d",
   "metadata": {},
   "outputs": [],
   "source": []
  }
 ],
 "metadata": {
  "kernelspec": {
   "display_name": "Python 3 (ipykernel)",
   "language": "python",
   "name": "python3"
  },
  "language_info": {
   "codemirror_mode": {
    "name": "ipython",
    "version": 3
   },
   "file_extension": ".py",
   "mimetype": "text/x-python",
   "name": "python",
   "nbconvert_exporter": "python",
   "pygments_lexer": "ipython3",
   "version": "3.12.6"
  }
 },
 "nbformat": 4,
 "nbformat_minor": 5
}
